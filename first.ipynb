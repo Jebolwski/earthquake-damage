{
  "cells": [
    {
      "cell_type": "code",
      "source": [
        "import pandas as pd\n",
        "import numpy as np\n",
        "from sklearn.model_selection import train_test_split\n",
        "from sklearn.preprocessing import OneHotEncoder, LabelEncoder\n",
        "from imblearn.over_sampling import SMOTE\n",
        "from sklearn.metrics import classification_report, accuracy_score\n",
        "import xgboost as xgb\n",
        "\n",
        "# 1. Eksik ve hatalı değerleri temizleme\n",
        "data = pd.read_csv(\"/content/sample_data/csv_building_structure.csv\")  # Verinizin bulunduğu dosya\n",
        "\n",
        "# Kullanılacak sütunlar\n",
        "# numerical_columns = [\"latitude\", \"longitude\", \"age\", \"plinth_area_sq_ft\", \"height_ft_pre_eq\"]\n",
        "numerical_columns = [\"age_building\", \"plinth_area_sq_ft\", \"height_ft_pre_eq\"]\n",
        "# categorical_columns = [\n",
        "#    \"land_surface_condition\", \"foundation_type\", \"ground_floor_type\", \"roof_type\",\n",
        "#    \"superstructure_type\", \"plan_configuration\", \"position\"\n",
        "#]\n",
        "\n",
        "categorical_columns = [\n",
        "    \"land_surface_condition\", \"foundation_type\", \"ground_floor_type\", \"roof_type\",\n",
        "    \"plan_configuration\", \"position\"\n",
        "]\n",
        "target_damage = 'damage_grade'  # Hasar derecesi hedefi\n",
        "target_rehabilitation = 'technical_solution_proposed'  # Rehabilitasyon hedefi"
      ],
      "metadata": {
        "colab": {
          "base_uri": "https://localhost:8080/",
          "height": 356
        },
        "collapsed": true,
        "id": "I8D4vB6mkkvJ",
        "outputId": "b905247a-6f44-4e74-b233-838e2803bb60"
      },
      "execution_count": 1,
      "outputs": [
        {
          "output_type": "error",
          "ename": "FileNotFoundError",
          "evalue": "[Errno 2] No such file or directory: 'data/csv_building_structure.csv'",
          "traceback": [
            "\u001b[0;31m---------------------------------------------------------------------------\u001b[0m",
            "\u001b[0;31mFileNotFoundError\u001b[0m                         Traceback (most recent call last)",
            "\u001b[0;32m<ipython-input-1-23baf3e4b803>\u001b[0m in \u001b[0;36m<cell line: 10>\u001b[0;34m()\u001b[0m\n\u001b[1;32m      8\u001b[0m \u001b[0;34m\u001b[0m\u001b[0m\n\u001b[1;32m      9\u001b[0m \u001b[0;31m# 1. Eksik ve hatalı değerleri temizleme\u001b[0m\u001b[0;34m\u001b[0m\u001b[0;34m\u001b[0m\u001b[0m\n\u001b[0;32m---> 10\u001b[0;31m \u001b[0mdata\u001b[0m \u001b[0;34m=\u001b[0m \u001b[0mpd\u001b[0m\u001b[0;34m.\u001b[0m\u001b[0mread_csv\u001b[0m\u001b[0;34m(\u001b[0m\u001b[0;34m\"data/csv_building_structure.csv\"\u001b[0m\u001b[0;34m)\u001b[0m  \u001b[0;31m# Verinizin bulunduğu dosya\u001b[0m\u001b[0;34m\u001b[0m\u001b[0;34m\u001b[0m\u001b[0m\n\u001b[0m\u001b[1;32m     11\u001b[0m \u001b[0;34m\u001b[0m\u001b[0m\n\u001b[1;32m     12\u001b[0m \u001b[0;31m# Kullanılacak sütunlar\u001b[0m\u001b[0;34m\u001b[0m\u001b[0;34m\u001b[0m\u001b[0m\n",
            "\u001b[0;32m/usr/local/lib/python3.10/dist-packages/pandas/io/parsers/readers.py\u001b[0m in \u001b[0;36mread_csv\u001b[0;34m(filepath_or_buffer, sep, delimiter, header, names, index_col, usecols, dtype, engine, converters, true_values, false_values, skipinitialspace, skiprows, skipfooter, nrows, na_values, keep_default_na, na_filter, verbose, skip_blank_lines, parse_dates, infer_datetime_format, keep_date_col, date_parser, date_format, dayfirst, cache_dates, iterator, chunksize, compression, thousands, decimal, lineterminator, quotechar, quoting, doublequote, escapechar, comment, encoding, encoding_errors, dialect, on_bad_lines, delim_whitespace, low_memory, memory_map, float_precision, storage_options, dtype_backend)\u001b[0m\n\u001b[1;32m   1024\u001b[0m     \u001b[0mkwds\u001b[0m\u001b[0;34m.\u001b[0m\u001b[0mupdate\u001b[0m\u001b[0;34m(\u001b[0m\u001b[0mkwds_defaults\u001b[0m\u001b[0;34m)\u001b[0m\u001b[0;34m\u001b[0m\u001b[0;34m\u001b[0m\u001b[0m\n\u001b[1;32m   1025\u001b[0m \u001b[0;34m\u001b[0m\u001b[0m\n\u001b[0;32m-> 1026\u001b[0;31m     \u001b[0;32mreturn\u001b[0m \u001b[0m_read\u001b[0m\u001b[0;34m(\u001b[0m\u001b[0mfilepath_or_buffer\u001b[0m\u001b[0;34m,\u001b[0m \u001b[0mkwds\u001b[0m\u001b[0;34m)\u001b[0m\u001b[0;34m\u001b[0m\u001b[0;34m\u001b[0m\u001b[0m\n\u001b[0m\u001b[1;32m   1027\u001b[0m \u001b[0;34m\u001b[0m\u001b[0m\n\u001b[1;32m   1028\u001b[0m \u001b[0;34m\u001b[0m\u001b[0m\n",
            "\u001b[0;32m/usr/local/lib/python3.10/dist-packages/pandas/io/parsers/readers.py\u001b[0m in \u001b[0;36m_read\u001b[0;34m(filepath_or_buffer, kwds)\u001b[0m\n\u001b[1;32m    618\u001b[0m \u001b[0;34m\u001b[0m\u001b[0m\n\u001b[1;32m    619\u001b[0m     \u001b[0;31m# Create the parser.\u001b[0m\u001b[0;34m\u001b[0m\u001b[0;34m\u001b[0m\u001b[0m\n\u001b[0;32m--> 620\u001b[0;31m     \u001b[0mparser\u001b[0m \u001b[0;34m=\u001b[0m \u001b[0mTextFileReader\u001b[0m\u001b[0;34m(\u001b[0m\u001b[0mfilepath_or_buffer\u001b[0m\u001b[0;34m,\u001b[0m \u001b[0;34m**\u001b[0m\u001b[0mkwds\u001b[0m\u001b[0;34m)\u001b[0m\u001b[0;34m\u001b[0m\u001b[0;34m\u001b[0m\u001b[0m\n\u001b[0m\u001b[1;32m    621\u001b[0m \u001b[0;34m\u001b[0m\u001b[0m\n\u001b[1;32m    622\u001b[0m     \u001b[0;32mif\u001b[0m \u001b[0mchunksize\u001b[0m \u001b[0;32mor\u001b[0m \u001b[0miterator\u001b[0m\u001b[0;34m:\u001b[0m\u001b[0;34m\u001b[0m\u001b[0;34m\u001b[0m\u001b[0m\n",
            "\u001b[0;32m/usr/local/lib/python3.10/dist-packages/pandas/io/parsers/readers.py\u001b[0m in \u001b[0;36m__init__\u001b[0;34m(self, f, engine, **kwds)\u001b[0m\n\u001b[1;32m   1618\u001b[0m \u001b[0;34m\u001b[0m\u001b[0m\n\u001b[1;32m   1619\u001b[0m         \u001b[0mself\u001b[0m\u001b[0;34m.\u001b[0m\u001b[0mhandles\u001b[0m\u001b[0;34m:\u001b[0m \u001b[0mIOHandles\u001b[0m \u001b[0;34m|\u001b[0m \u001b[0;32mNone\u001b[0m \u001b[0;34m=\u001b[0m \u001b[0;32mNone\u001b[0m\u001b[0;34m\u001b[0m\u001b[0;34m\u001b[0m\u001b[0m\n\u001b[0;32m-> 1620\u001b[0;31m         \u001b[0mself\u001b[0m\u001b[0;34m.\u001b[0m\u001b[0m_engine\u001b[0m \u001b[0;34m=\u001b[0m \u001b[0mself\u001b[0m\u001b[0;34m.\u001b[0m\u001b[0m_make_engine\u001b[0m\u001b[0;34m(\u001b[0m\u001b[0mf\u001b[0m\u001b[0;34m,\u001b[0m \u001b[0mself\u001b[0m\u001b[0;34m.\u001b[0m\u001b[0mengine\u001b[0m\u001b[0;34m)\u001b[0m\u001b[0;34m\u001b[0m\u001b[0;34m\u001b[0m\u001b[0m\n\u001b[0m\u001b[1;32m   1621\u001b[0m \u001b[0;34m\u001b[0m\u001b[0m\n\u001b[1;32m   1622\u001b[0m     \u001b[0;32mdef\u001b[0m \u001b[0mclose\u001b[0m\u001b[0;34m(\u001b[0m\u001b[0mself\u001b[0m\u001b[0;34m)\u001b[0m \u001b[0;34m->\u001b[0m \u001b[0;32mNone\u001b[0m\u001b[0;34m:\u001b[0m\u001b[0;34m\u001b[0m\u001b[0;34m\u001b[0m\u001b[0m\n",
            "\u001b[0;32m/usr/local/lib/python3.10/dist-packages/pandas/io/parsers/readers.py\u001b[0m in \u001b[0;36m_make_engine\u001b[0;34m(self, f, engine)\u001b[0m\n\u001b[1;32m   1878\u001b[0m                 \u001b[0;32mif\u001b[0m \u001b[0;34m\"b\"\u001b[0m \u001b[0;32mnot\u001b[0m \u001b[0;32min\u001b[0m \u001b[0mmode\u001b[0m\u001b[0;34m:\u001b[0m\u001b[0;34m\u001b[0m\u001b[0;34m\u001b[0m\u001b[0m\n\u001b[1;32m   1879\u001b[0m                     \u001b[0mmode\u001b[0m \u001b[0;34m+=\u001b[0m \u001b[0;34m\"b\"\u001b[0m\u001b[0;34m\u001b[0m\u001b[0;34m\u001b[0m\u001b[0m\n\u001b[0;32m-> 1880\u001b[0;31m             self.handles = get_handle(\n\u001b[0m\u001b[1;32m   1881\u001b[0m                 \u001b[0mf\u001b[0m\u001b[0;34m,\u001b[0m\u001b[0;34m\u001b[0m\u001b[0;34m\u001b[0m\u001b[0m\n\u001b[1;32m   1882\u001b[0m                 \u001b[0mmode\u001b[0m\u001b[0;34m,\u001b[0m\u001b[0;34m\u001b[0m\u001b[0;34m\u001b[0m\u001b[0m\n",
            "\u001b[0;32m/usr/local/lib/python3.10/dist-packages/pandas/io/common.py\u001b[0m in \u001b[0;36mget_handle\u001b[0;34m(path_or_buf, mode, encoding, compression, memory_map, is_text, errors, storage_options)\u001b[0m\n\u001b[1;32m    871\u001b[0m         \u001b[0;32mif\u001b[0m \u001b[0mioargs\u001b[0m\u001b[0;34m.\u001b[0m\u001b[0mencoding\u001b[0m \u001b[0;32mand\u001b[0m \u001b[0;34m\"b\"\u001b[0m \u001b[0;32mnot\u001b[0m \u001b[0;32min\u001b[0m \u001b[0mioargs\u001b[0m\u001b[0;34m.\u001b[0m\u001b[0mmode\u001b[0m\u001b[0;34m:\u001b[0m\u001b[0;34m\u001b[0m\u001b[0;34m\u001b[0m\u001b[0m\n\u001b[1;32m    872\u001b[0m             \u001b[0;31m# Encoding\u001b[0m\u001b[0;34m\u001b[0m\u001b[0;34m\u001b[0m\u001b[0m\n\u001b[0;32m--> 873\u001b[0;31m             handle = open(\n\u001b[0m\u001b[1;32m    874\u001b[0m                 \u001b[0mhandle\u001b[0m\u001b[0;34m,\u001b[0m\u001b[0;34m\u001b[0m\u001b[0;34m\u001b[0m\u001b[0m\n\u001b[1;32m    875\u001b[0m                 \u001b[0mioargs\u001b[0m\u001b[0;34m.\u001b[0m\u001b[0mmode\u001b[0m\u001b[0;34m,\u001b[0m\u001b[0;34m\u001b[0m\u001b[0;34m\u001b[0m\u001b[0m\n",
            "\u001b[0;31mFileNotFoundError\u001b[0m: [Errno 2] No such file or directory: 'data/csv_building_structure.csv'"
          ]
        }
      ]
    },
    {
      "cell_type": "code",
      "source": [
        "# Belirtilen sütunlar ve hedef değişkenler dışındaki sütunları çıkarma\n",
        "data = data[numerical_columns + categorical_columns + [target_damage, target_rehabilitation]]\n",
        "\n",
        "# Kategorik sütunlardaki eksik ve hatalı verileri temizleme\n",
        "data[categorical_columns] = data[categorical_columns].apply(lambda x: x.str.lower().str.strip())\n",
        "data.fillna('unknown', inplace=True)  # Eksik değerleri 'unknown' ile doldur\n",
        "\n",
        "# 2. Hedef ve girdi değişkenlerini belirleme\n",
        "features = numerical_columns + categorical_columns\n",
        "\n",
        "# Kategorik verileri OneHotEncode etme\n",
        "encoder = OneHotEncoder(sparse_output=False, handle_unknown='ignore')\n",
        "encoded_features = encoder.fit_transform(data[categorical_columns])\n",
        "onehot_columns = encoder.get_feature_names_out(categorical_columns)\n",
        "\n",
        "# Sayısal ve kategorik değişkenleri birleştirme\n",
        "final_data = pd.concat([\n",
        "    data[numerical_columns].reset_index(drop=True),\n",
        "    pd.DataFrame(encoded_features, columns=onehot_columns).reset_index(drop=True)\n",
        "], axis=1)"
      ],
      "metadata": {
        "id": "Vt0sGXetklEO"
      },
      "execution_count": null,
      "outputs": []
    },
    {
      "cell_type": "code",
      "source": [
        "# 3. Hedef değişkenleri sayısala çevirme\n",
        "label_encoder = LabelEncoder()\n",
        "Y_damage = label_encoder.fit_transform(data[target_damage])\n",
        "Y_rehabilitation = label_encoder.fit_transform(data[target_rehabilitation])\n",
        "\n",
        "# 4. SMOTE ile sınıf dengesini sağlama\n",
        "smote = SMOTE(random_state=42)\n",
        "X_damage_balanced, Y_damage_balanced = smote.fit_resample(final_data, Y_damage)\n",
        "X_rehabilitation_balanced, Y_rehabilitation_balanced = smote.fit_resample(final_data, Y_rehabilitation)\n",
        "\n",
        "# 5. Eğitim ve test verisi bölme\n",
        "X_train_damage, X_test_damage, Y_train_damage, Y_test_damage = train_test_split(\n",
        "    X_damage_balanced, Y_damage_balanced, test_size=0.33, random_state=42\n",
        ")\n",
        "X_train_rehab, X_test_rehab, Y_train_rehab, Y_test_rehab = train_test_split(\n",
        "    X_rehabilitation_balanced, Y_rehabilitation_balanced, test_size=0.33, random_state=42\n",
        ")"
      ],
      "metadata": {
        "id": "WyDZyBqTkn-m"
      },
      "execution_count": null,
      "outputs": []
    },
    {
      "cell_type": "code",
      "source": [
        "# 6. XGBoost Modeli ile Tahmin\n",
        "# Hasar Derecesi Tahmini\n",
        "xgb_damage = xgb.XGBClassifier(objective='multi:softmax', num_class=len(np.unique(Y_damage)), random_state=42)\n",
        "xgb_damage.fit(X_train_damage, Y_train_damage)\n",
        "\n",
        "Y_pred_damage = xgb_damage.predict(X_test_damage)\n",
        "print(\"Hasar Derecesi Tahmini:\")\n",
        "print(classification_report(Y_test_damage, Y_pred_damage))\n",
        "print(\"Doğruluk:\", accuracy_score(Y_test_damage, Y_pred_damage))\n",
        "\n",
        "# Rehabilitasyon Müdahalesi Tahmini\n",
        "xgb_rehab = xgb.XGBClassifier(objective='binary:logistic', random_state=42)\n",
        "xgb_rehab.fit(X_train_rehab, Y_train_rehab)\n",
        "\n",
        "Y_pred_rehab = xgb_rehab.predict(X_test_rehab)\n",
        "print(\"Rehabilitasyon Müdahalesi Tahmini:\")\n",
        "print(classification_report(Y_test_rehab, Y_pred_rehab))\n",
        "print(\"Doğruluk:\", accuracy_score(Y_test_rehab, Y_pred_rehab))"
      ],
      "metadata": {
        "id": "ucp5Ro4skpsy"
      },
      "execution_count": null,
      "outputs": []
    }
  ],
  "metadata": {
    "colab": {
      "provenance": []
    },
    "kernelspec": {
      "display_name": "Python 3",
      "name": "python3"
    },
    "language_info": {
      "name": "python"
    }
  },
  "nbformat": 4,
  "nbformat_minor": 0
}