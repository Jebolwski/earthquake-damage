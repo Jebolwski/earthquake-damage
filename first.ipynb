{
  "cells": [
    {
      "cell_type": "code",
      "execution_count": 1,
      "metadata": {
        "id": "scmvW-b3RSAr"
      },
      "outputs": [],
      "source": [
        "import pandas as pd\n",
        "import numpy as np\n",
        "from sklearn.model_selection import train_test_split\n",
        "from sklearn.ensemble import RandomForestClassifier\n",
        "from sklearn.metrics import accuracy_score\n",
        "from sklearn.preprocessing import StandardScaler, LabelEncoder\n",
        "import tensorflow as tf\n",
        "import matplotlib.pyplot as plt"
      ]
    },
    {
      "cell_type": "code",
      "source": [
        "# Veri yükleme (örnek bir dataset yüklenmelidir)\n",
        "df = pd.read_csv(\"/content/sample_data/csv_building_structure.csv\")"
      ],
      "metadata": {
        "id": "S1KIoZ_4A8pe"
      },
      "execution_count": 2,
      "outputs": []
    },
    {
      "cell_type": "code",
      "execution_count": 5,
      "metadata": {
        "id": "fdVioS7FRwA1"
      },
      "outputs": [],
      "source": [
        "# Özellikler ve hedef değişkeni ayırma\n",
        "features = [\n",
        "    \"plinth_area_sq_ft\",\n",
        "    \"land_surface_condition\",\n",
        "    \"count_floors_pre_eq\",\n",
        "    \"height_ft_pre_eq\",\n",
        "    \"roof_type\",\n",
        "    \"age_building\",\n",
        "    \"foundation_type\",\n",
        "    \"ground_floor_type\",\n",
        "    \"other_floor_type\",\n",
        "    \"has_superstructure_adobe_mud\",\n",
        "    \"has_superstructure_stone_flag\",\n",
        "    \"has_superstructure_cement_mortar_stone\",\n",
        "    \"has_superstructure_mud_mortar_brick\",\n",
        "    \"has_superstructure_cement_mortar_brick\",\n",
        "    \"has_superstructure_timber\",\n",
        "    \"has_superstructure_bamboo\",\n",
        "    \"has_superstructure_rc_non_engineered\",\n",
        "    \"has_superstructure_rc_engineered\",\n",
        "    \"has_superstructure_other\",\n",
        "]\n",
        "\n",
        "X = df[features]\n",
        "y = df['damage_grade']  # Hedef değişken"
      ]
    },
    {
      "cell_type": "code",
      "source": [
        "def extract_grade_number(grade):\n",
        "  if pd.isnull(grade):\n",
        "    return np.nan\n",
        "  else:\n",
        "    return int(grade.split()[-1])\n",
        "\n",
        "df['damage_grade'] = df['damage_grade'].apply(extract_grade_number)"
      ],
      "metadata": {
        "id": "S05dviWtIczS"
      },
      "execution_count": 7,
      "outputs": []
    },
    {
      "cell_type": "code",
      "source": [
        "from sklearn.preprocessing import LabelEncoder, OneHotEncoder\n",
        "\n",
        "# Kategorik sütunları bulma\n",
        "categorical_columns = X.select_dtypes(include=['object']).columns\n",
        "\n",
        "# Kategorik sütunları Label Encoding ile sayısallaştırma\n",
        "for col in categorical_columns:\n",
        "    le = LabelEncoder()\n",
        "    X[col] = le.fit_transform(X[col])\n",
        "\n",
        "# Özellikleri standardize etme\n",
        "scaler = StandardScaler()\n",
        "X = scaler.fit_transform(X)\n",
        "\n",
        "# Geri kalan kod aynı\n"
      ],
      "metadata": {
        "colab": {
          "base_uri": "https://localhost:8080/"
        },
        "id": "jmY31tOTJJU8",
        "outputId": "398ddd1d-8b9c-4603-83df-7004e7719c69"
      },
      "execution_count": 9,
      "outputs": [
        {
          "output_type": "stream",
          "name": "stderr",
          "text": [
            "<ipython-input-9-f84cae3e4161>:9: SettingWithCopyWarning: \n",
            "A value is trying to be set on a copy of a slice from a DataFrame.\n",
            "Try using .loc[row_indexer,col_indexer] = value instead\n",
            "\n",
            "See the caveats in the documentation: https://pandas.pydata.org/pandas-docs/stable/user_guide/indexing.html#returning-a-view-versus-a-copy\n",
            "  X[col] = le.fit_transform(X[col])\n",
            "<ipython-input-9-f84cae3e4161>:9: SettingWithCopyWarning: \n",
            "A value is trying to be set on a copy of a slice from a DataFrame.\n",
            "Try using .loc[row_indexer,col_indexer] = value instead\n",
            "\n",
            "See the caveats in the documentation: https://pandas.pydata.org/pandas-docs/stable/user_guide/indexing.html#returning-a-view-versus-a-copy\n",
            "  X[col] = le.fit_transform(X[col])\n",
            "<ipython-input-9-f84cae3e4161>:9: SettingWithCopyWarning: \n",
            "A value is trying to be set on a copy of a slice from a DataFrame.\n",
            "Try using .loc[row_indexer,col_indexer] = value instead\n",
            "\n",
            "See the caveats in the documentation: https://pandas.pydata.org/pandas-docs/stable/user_guide/indexing.html#returning-a-view-versus-a-copy\n",
            "  X[col] = le.fit_transform(X[col])\n",
            "<ipython-input-9-f84cae3e4161>:9: SettingWithCopyWarning: \n",
            "A value is trying to be set on a copy of a slice from a DataFrame.\n",
            "Try using .loc[row_indexer,col_indexer] = value instead\n",
            "\n",
            "See the caveats in the documentation: https://pandas.pydata.org/pandas-docs/stable/user_guide/indexing.html#returning-a-view-versus-a-copy\n",
            "  X[col] = le.fit_transform(X[col])\n",
            "<ipython-input-9-f84cae3e4161>:9: SettingWithCopyWarning: \n",
            "A value is trying to be set on a copy of a slice from a DataFrame.\n",
            "Try using .loc[row_indexer,col_indexer] = value instead\n",
            "\n",
            "See the caveats in the documentation: https://pandas.pydata.org/pandas-docs/stable/user_guide/indexing.html#returning-a-view-versus-a-copy\n",
            "  X[col] = le.fit_transform(X[col])\n"
          ]
        }
      ]
    },
    {
      "cell_type": "code",
      "execution_count": 10,
      "metadata": {
        "id": "9GCzEXRdHCH3"
      },
      "outputs": [],
      "source": [
        "encoder = LabelEncoder()\n",
        "y = encoder.fit_transform(y)\n",
        "\n",
        "# Özellikleri standardize etme\n",
        "scaler = StandardScaler()\n",
        "X = scaler.fit_transform(X)"
      ]
    },
    {
      "cell_type": "code",
      "execution_count": null,
      "metadata": {
        "id": "l2Fw-7L5HcM1"
      },
      "outputs": [],
      "source": [
        "# Veriyi eğitim ve test setlerine bölme\n",
        "X_train, X_test, y_train, y_test = train_test_split(X, y, test_size=0.2, random_state=42)\n",
        "\n",
        "### 1. Random Forest Modeli\n",
        "rf_model = RandomForestClassifier(\n",
        "    n_estimators=750,\n",
        "    max_features=25,\n",
        "    min_samples_leaf=5,\n",
        "    random_state=42\n",
        ")\n",
        "rf_model.fit(X_train, y_train)\n",
        "rf_pred = rf_model.predict(X_test)\n",
        "rf_accuracy = accuracy_score(y_test, rf_pred)"
      ]
    },
    {
      "cell_type": "code",
      "execution_count": null,
      "metadata": {
        "id": "PwRzPbVg9JMF"
      },
      "outputs": [],
      "source": [
        "### 2. Neural Network Modeli\n",
        "nn_model = tf.keras.Sequential([\n",
        "    tf.keras.layers.Dense(128, activation='relu', input_shape=(X_train.shape[1],)),\n",
        "    tf.keras.layers.Dense(64, activation='relu'),\n",
        "    tf.keras.layers.Dense(32, activation='relu'),\n",
        "    tf.keras.layers.Dense(len(np.unique(y)), activation='softmax')  # Sınıf sayısı\n",
        "])\n",
        "\n",
        "nn_model.compile(optimizer='adam',\n",
        "                 loss='sparse_categorical_crossentropy',\n",
        "                 metrics=['accuracy'])"
      ]
    },
    {
      "cell_type": "code",
      "execution_count": null,
      "metadata": {
        "id": "Fj7rRYBLpoLV"
      },
      "outputs": [],
      "source": [
        "# Modeli eğitme\n",
        "nn_history = nn_model.fit(X_train, y_train, epochs=50, batch_size=32, verbose=0)\n",
        "\n",
        "# Test seti üzerinde tahminler\n",
        "nn_pred = np.argmax(nn_model.predict(X_test), axis=1)\n",
        "nn_accuracy = accuracy_score(y_test, nn_pred)"
      ]
    },
    {
      "cell_type": "code",
      "execution_count": null,
      "metadata": {
        "collapsed": true,
        "id": "PL8QEfZ9HIzS"
      },
      "outputs": [],
      "source": [
        "### 3. Sonuçları Karşılaştırma ve Grafik\n",
        "models = ['Random Forest', 'Neural Network']\n",
        "accuracies = [rf_accuracy, nn_accuracy]\n",
        "\n",
        "plt.bar(models, accuracies, color=['blue', 'orange'])\n",
        "plt.ylim(0, 1)\n",
        "plt.title('Model Accuracy Comparison')\n",
        "plt.ylabel('Accuracy')\n",
        "plt.show()\n",
        "\n",
        "# Her iki modelin doğruluğunu yazdırma\n",
        "print(f\"Random Forest Doğruluk: {rf_accuracy:.2f}\")\n",
        "print(f\"Neural Network Doğruluk: {nn_accuracy:.2f}\")"
      ]
    }
  ],
  "metadata": {
    "colab": {
      "provenance": []
    },
    "kernelspec": {
      "display_name": "Python 3",
      "name": "python3"
    },
    "language_info": {
      "name": "python"
    }
  },
  "nbformat": 4,
  "nbformat_minor": 0
}