{
  "cells": [
    {
      "cell_type": "code",
      "source": [
        "import pandas as pd\n",
        "import numpy as np\n",
        "from sklearn.model_selection import train_test_split\n",
        "from sklearn.preprocessing import OneHotEncoder, LabelEncoder\n",
        "from imblearn.over_sampling import SMOTE\n",
        "from sklearn.metrics import classification_report, accuracy_score\n",
        "import xgboost as xgb\n",
        "from sklearn.tree import DecisionTreeClassifier\n",
        "from sklearn.ensemble import RandomForestClassifier\n",
        "from sklearn.linear_model import LogisticRegression\n",
        "import matplotlib.pyplot as plt\n",
        "\n",
        "# 1. Eksik ve hatalı değerleri temizleme\n",
        "data = pd.read_csv(\"/content/sample_data/csv_building_structure.csv\")  # Verinizin bulunduğu dosya\n",
        "\n",
        "# Kullanılacak sütunlar\n",
        "# numerical_columns = [\"latitude\", \"longitude\", \"age\", \"plinth_area_sq_ft\", \"height_ft_pre_eq\"]\n",
        "numerical_columns = [\"age_building\", \"plinth_area_sq_ft\", \"height_ft_pre_eq\"]\n",
        "# categorical_columns = [\n",
        "#    \"land_surface_condition\", \"foundation_type\", \"ground_floor_type\", \"roof_type\",\n",
        "#    \"superstructure_type\", \"plan_configuration\", \"position\"\n",
        "#]\n",
        "\n",
        "categorical_columns = [\n",
        "    \"land_surface_condition\", \"foundation_type\", \"ground_floor_type\", \"roof_type\",\n",
        "    \"plan_configuration\", \"position\"\n",
        "]\n",
        "target_damage = 'damage_grade'  # Hasar derecesi hedefi\n",
        "target_rehabilitation = 'technical_solution_proposed'  # Rehabilitasyon hedefi"
      ],
      "metadata": {
        "collapsed": true,
        "id": "I8D4vB6mkkvJ"
      },
      "execution_count": 26,
      "outputs": []
    },
    {
      "cell_type": "code",
      "source": [
        "data = data.dropna(subset=['technical_solution_proposed'])\n",
        "\n",
        "data['technical_solution_proposed'] = data['technical_solution_proposed'].replace(['Major repair', 'Minor repair'], 'Repair')\n",
        "\n",
        "# Belirtilen sütunlar ve hedef değişkenler dışındaki sütunları çıkarma\n",
        "data = data[numerical_columns + categorical_columns + [target_damage, target_rehabilitation]]\n",
        "\n",
        "# Kategorik sütunlardaki eksik ve hatalı verileri temizleme\n",
        "data[categorical_columns] = data[categorical_columns].apply(lambda x: x.str.lower().str.strip())\n",
        "data.fillna('unknown', inplace=True)  # Eksik değerleri 'unknown' ile doldur\n",
        "\n",
        "# 2. Hedef ve girdi değişkenlerini belirleme\n",
        "features = numerical_columns + categorical_columns\n",
        "\n",
        "# Kategorik verileri OneHotEncode etme\n",
        "encoder = OneHotEncoder(sparse_output=False, handle_unknown='ignore')\n",
        "encoded_features = encoder.fit_transform(data[categorical_columns])\n",
        "onehot_columns = encoder.get_feature_names_out(categorical_columns)\n",
        "\n",
        "# Sayısal ve kategorik değişkenleri birleştirme\n",
        "final_data = pd.concat([\n",
        "    data[numerical_columns].reset_index(drop=True),\n",
        "    pd.DataFrame(encoded_features, columns=onehot_columns).reset_index(drop=True)\n",
        "], axis=1)"
      ],
      "metadata": {
        "id": "Vt0sGXetklEO",
        "colab": {
          "base_uri": "https://localhost:8080/"
        },
        "outputId": "d6d92d4c-dd29-4f30-a7a1-21248235e879"
      },
      "execution_count": 27,
      "outputs": [
        {
          "output_type": "stream",
          "name": "stderr",
          "text": [
            "<ipython-input-27-fbb49ab150f0>:3: SettingWithCopyWarning: \n",
            "A value is trying to be set on a copy of a slice from a DataFrame.\n",
            "Try using .loc[row_indexer,col_indexer] = value instead\n",
            "\n",
            "See the caveats in the documentation: https://pandas.pydata.org/pandas-docs/stable/user_guide/indexing.html#returning-a-view-versus-a-copy\n",
            "  data['technical_solution_proposed'] = data['technical_solution_proposed'].replace(['Major repair', 'Minor repair'], 'Repair')\n"
          ]
        }
      ]
    },
    {
      "cell_type": "code",
      "source": [
        "# 3. Hedef değişkenleri sayısala çevirme\n",
        "label_encoder = LabelEncoder()\n",
        "Y_damage = label_encoder.fit_transform(data[target_damage])\n",
        "Y_rehabilitation = label_encoder.fit_transform(data[target_rehabilitation])\n",
        "\n",
        "# 4. SMOTE ile sınıf dengesini sağlama\n",
        "smote = SMOTE(random_state=42)\n",
        "X_damage_balanced, Y_damage_balanced = smote.fit_resample(final_data, Y_damage)\n",
        "X_rehabilitation_balanced, Y_rehabilitation_balanced = smote.fit_resample(final_data, Y_rehabilitation)\n",
        "\n",
        "# 5. Eğitim ve test verisi bölme\n",
        "X_train_damage, X_test_damage, Y_train_damage, Y_test_damage = train_test_split(\n",
        "    X_damage_balanced, Y_damage_balanced, test_size=0.33, random_state=42\n",
        ")\n",
        "X_train_rehab, X_test_rehab, Y_train_rehab, Y_test_rehab = train_test_split(\n",
        "    X_rehabilitation_balanced, Y_rehabilitation_balanced, test_size=0.33, random_state=42\n",
        ")"
      ],
      "metadata": {
        "id": "WyDZyBqTkn-m",
        "colab": {
          "base_uri": "https://localhost:8080/"
        },
        "outputId": "2f980876-2099-4dc1-a694-af956076ac5f"
      },
      "execution_count": 28,
      "outputs": [
        {
          "output_type": "stream",
          "name": "stderr",
          "text": [
            "/usr/local/lib/python3.10/dist-packages/sklearn/base.py:474: FutureWarning: `BaseEstimator._validate_data` is deprecated in 1.6 and will be removed in 1.7. Use `sklearn.utils.validation.validate_data` instead. This function becomes public and is part of the scikit-learn developer API.\n",
            "  warnings.warn(\n",
            "/usr/local/lib/python3.10/dist-packages/sklearn/utils/_tags.py:354: FutureWarning: The SMOTE or classes from which it inherits use `_get_tags` and `_more_tags`. Please define the `__sklearn_tags__` method, or inherit from `sklearn.base.BaseEstimator` and/or other appropriate mixins such as `sklearn.base.TransformerMixin`, `sklearn.base.ClassifierMixin`, `sklearn.base.RegressorMixin`, and `sklearn.base.OutlierMixin`. From scikit-learn 1.7, not defining `__sklearn_tags__` will raise an error.\n",
            "  warnings.warn(\n",
            "/usr/local/lib/python3.10/dist-packages/sklearn/base.py:474: FutureWarning: `BaseEstimator._validate_data` is deprecated in 1.6 and will be removed in 1.7. Use `sklearn.utils.validation.validate_data` instead. This function becomes public and is part of the scikit-learn developer API.\n",
            "  warnings.warn(\n",
            "/usr/local/lib/python3.10/dist-packages/sklearn/utils/_tags.py:354: FutureWarning: The SMOTE or classes from which it inherits use `_get_tags` and `_more_tags`. Please define the `__sklearn_tags__` method, or inherit from `sklearn.base.BaseEstimator` and/or other appropriate mixins such as `sklearn.base.TransformerMixin`, `sklearn.base.ClassifierMixin`, `sklearn.base.RegressorMixin`, and `sklearn.base.OutlierMixin`. From scikit-learn 1.7, not defining `__sklearn_tags__` will raise an error.\n",
            "  warnings.warn(\n"
          ]
        }
      ]
    },
    {
      "cell_type": "code",
      "source": [
        "models = {\n",
        "    \"Decision Tree\": DecisionTreeClassifier(random_state=42),\n",
        "    \"Random Forest\": RandomForestClassifier(random_state=42),\n",
        "    \"XGBoost\": xgb.XGBClassifier(random_state=42),\n",
        "    \"Logistic Regression\": LogisticRegression(random_state=42, max_iter=1000) # max_iter arttırıldı\n",
        "}\n",
        "\n",
        "accuracy_results = {}\n",
        "\n",
        "for model_name, model in models.items():\n",
        "    print(f\"\\n{model_name} modeli sonuçları:\")\n",
        "\n",
        "    # Hasar Derecesi Tahmini\n",
        "    model.fit(X_train_damage, Y_train_damage)\n",
        "    Y_pred_damage = model.predict(X_test_damage)\n",
        "    accuracy_damage = accuracy_score(Y_test_damage, Y_pred_damage)\n",
        "    print(\"Hasar Derecesi Tahmini:\")\n",
        "    print(classification_report(Y_test_damage, Y_pred_damage))\n",
        "    print(\"Doğruluk:\", accuracy_damage)\n",
        "\n",
        "\n",
        "    # Rehabilitasyon Müdahalesi Tahmini\n",
        "    model.fit(X_train_rehab, Y_train_rehab)\n",
        "    Y_pred_rehab = model.predict(X_test_rehab)\n",
        "    accuracy_rehab = accuracy_score(Y_test_rehab, Y_pred_rehab)\n",
        "    print(\"Rehabilitasyon Müdahalesi Tahmini:\")\n",
        "    print(classification_report(Y_test_rehab, Y_pred_rehab))\n",
        "    print(\"Doğruluk:\", accuracy_rehab)\n",
        "\n",
        "    accuracy_results[model_name] = {\"damage\": accuracy_damage, \"rehab\": accuracy_rehab}\n",
        "\n",
        "\n",
        "# Grafik oluşturma\n",
        "plt.figure(figsize=(10, 6))\n",
        "models_names = list(accuracy_results.keys())\n",
        "damage_accuracies = [accuracy_results[model][\"damage\"] for model in models_names]\n",
        "rehab_accuracies = [accuracy_results[model][\"rehab\"] for model in models_names]\n",
        "X_axis = np.arange(len(models_names))\n",
        "\n",
        "plt.bar(X_axis - 0.2, damage_accuracies, 0.4, label='Hasar Derecesi')\n",
        "plt.bar(X_axis + 0.2, rehab_accuracies, 0.4, label='Rehabilitasyon')\n",
        "\n",
        "plt.xticks(X_axis, models_names)\n",
        "plt.xlabel(\"Modeller\")\n",
        "plt.ylabel(\"Doğruluk\")\n",
        "plt.title(\"Model Doğruluk Karşılaştırılması\")\n",
        "plt.legend()\n",
        "plt.show()"
      ],
      "metadata": {
        "colab": {
          "base_uri": "https://localhost:8080/",
          "height": 1000
        },
        "id": "VipQjjARbdp4",
        "outputId": "73ff4f5a-41f4-4673-c4cf-d035f44f3ac2"
      },
      "execution_count": 25,
      "outputs": [
        {
          "output_type": "stream",
          "name": "stdout",
          "text": [
            "\n",
            "Decision Tree modeli sonuçları:\n",
            "Hasar Derecesi Tahmini:\n",
            "              precision    recall  f1-score   support\n",
            "\n",
            "           0       0.62      0.65      0.63     91080\n",
            "           1       0.46      0.49      0.47     90866\n",
            "           2       0.39      0.41      0.40     91183\n",
            "           3       0.39      0.38      0.38     91196\n",
            "           4       0.46      0.39      0.42     90689\n",
            "\n",
            "    accuracy                           0.46    455014\n",
            "   macro avg       0.46      0.46      0.46    455014\n",
            "weighted avg       0.46      0.46      0.46    455014\n",
            "\n",
            "Doğruluk: 0.46284949474082115\n",
            "Rehabilitasyon Müdahalesi Tahmini:\n",
            "              precision    recall  f1-score   support\n",
            "\n",
            "           0       0.80      0.84      0.82    155322\n",
            "           1       0.69      0.71      0.70    154861\n",
            "           2       0.60      0.55      0.58    155334\n",
            "\n",
            "    accuracy                           0.70    465517\n",
            "   macro avg       0.70      0.70      0.70    465517\n",
            "weighted avg       0.70      0.70      0.70    465517\n",
            "\n",
            "Doğruluk: 0.7004276965180649\n",
            "\n",
            "Random Forest modeli sonuçları:\n",
            "Hasar Derecesi Tahmini:\n",
            "              precision    recall  f1-score   support\n",
            "\n",
            "           0       0.63      0.70      0.67     91080\n",
            "           1       0.48      0.47      0.48     90866\n",
            "           2       0.41      0.38      0.39     91183\n",
            "           3       0.40      0.37      0.39     91196\n",
            "           4       0.45      0.47      0.46     90689\n",
            "\n",
            "    accuracy                           0.48    455014\n",
            "   macro avg       0.47      0.48      0.48    455014\n",
            "weighted avg       0.47      0.48      0.48    455014\n",
            "\n",
            "Doğruluk: 0.47961601181502106\n",
            "Rehabilitasyon Müdahalesi Tahmini:\n",
            "              precision    recall  f1-score   support\n",
            "\n",
            "           0       0.81      0.88      0.84    155322\n",
            "           1       0.70      0.74      0.72    154861\n",
            "           2       0.64      0.55      0.59    155334\n",
            "\n",
            "    accuracy                           0.72    465517\n",
            "   macro avg       0.72      0.72      0.72    465517\n",
            "weighted avg       0.72      0.72      0.72    465517\n",
            "\n",
            "Doğruluk: 0.7211551887471349\n",
            "\n",
            "XGBoost modeli sonuçları:\n",
            "Hasar Derecesi Tahmini:\n",
            "              precision    recall  f1-score   support\n",
            "\n",
            "           0       0.58      0.69      0.63     91080\n",
            "           1       0.39      0.28      0.33     90866\n",
            "           2       0.37      0.17      0.23     91183\n",
            "           3       0.33      0.29      0.31     91196\n",
            "           4       0.40      0.70      0.51     90689\n",
            "\n",
            "    accuracy                           0.43    455014\n",
            "   macro avg       0.41      0.43      0.40    455014\n",
            "weighted avg       0.41      0.43      0.40    455014\n",
            "\n",
            "Doğruluk: 0.42543745906719355\n",
            "Rehabilitasyon Müdahalesi Tahmini:\n",
            "              precision    recall  f1-score   support\n",
            "\n",
            "           0       0.77      0.80      0.78    155322\n",
            "           1       0.63      0.90      0.74    154861\n",
            "           2       0.62      0.34      0.44    155334\n",
            "\n",
            "    accuracy                           0.68    465517\n",
            "   macro avg       0.67      0.68      0.66    465517\n",
            "weighted avg       0.67      0.68      0.66    465517\n",
            "\n",
            "Doğruluk: 0.6783511665524568\n",
            "\n",
            "Logistic Regression modeli sonuçları:\n"
          ]
        },
        {
          "output_type": "stream",
          "name": "stderr",
          "text": [
            "/usr/local/lib/python3.10/dist-packages/sklearn/linear_model/_logistic.py:465: ConvergenceWarning: lbfgs failed to converge (status=1):\n",
            "STOP: TOTAL NO. of ITERATIONS REACHED LIMIT.\n",
            "\n",
            "Increase the number of iterations (max_iter) or scale the data as shown in:\n",
            "    https://scikit-learn.org/stable/modules/preprocessing.html\n",
            "Please also refer to the documentation for alternative solver options:\n",
            "    https://scikit-learn.org/stable/modules/linear_model.html#logistic-regression\n",
            "  n_iter_i = _check_optimize_result(\n"
          ]
        },
        {
          "output_type": "stream",
          "name": "stdout",
          "text": [
            "Hasar Derecesi Tahmini:\n",
            "              precision    recall  f1-score   support\n",
            "\n",
            "           0       0.53      0.62      0.58     91080\n",
            "           1       0.28      0.14      0.19     90866\n",
            "           2       0.24      0.12      0.16     91183\n",
            "           3       0.27      0.37      0.32     91196\n",
            "           4       0.31      0.45      0.37     90689\n",
            "\n",
            "    accuracy                           0.34    455014\n",
            "   macro avg       0.33      0.34      0.32    455014\n",
            "weighted avg       0.33      0.34      0.32    455014\n",
            "\n",
            "Doğruluk: 0.34186420637606757\n"
          ]
        },
        {
          "output_type": "stream",
          "name": "stderr",
          "text": [
            "/usr/local/lib/python3.10/dist-packages/sklearn/linear_model/_logistic.py:465: ConvergenceWarning: lbfgs failed to converge (status=1):\n",
            "STOP: TOTAL NO. of ITERATIONS REACHED LIMIT.\n",
            "\n",
            "Increase the number of iterations (max_iter) or scale the data as shown in:\n",
            "    https://scikit-learn.org/stable/modules/preprocessing.html\n",
            "Please also refer to the documentation for alternative solver options:\n",
            "    https://scikit-learn.org/stable/modules/linear_model.html#logistic-regression\n",
            "  n_iter_i = _check_optimize_result(\n"
          ]
        },
        {
          "output_type": "stream",
          "name": "stdout",
          "text": [
            "Rehabilitasyon Müdahalesi Tahmini:\n",
            "              precision    recall  f1-score   support\n",
            "\n",
            "           0       0.68      0.67      0.67    155322\n",
            "           1       0.52      0.89      0.66    154861\n",
            "           2       0.38      0.12      0.18    155334\n",
            "\n",
            "    accuracy                           0.56    465517\n",
            "   macro avg       0.53      0.56      0.51    465517\n",
            "weighted avg       0.53      0.56      0.50    465517\n",
            "\n",
            "Doğruluk: 0.5586777711662517\n"
          ]
        },
        {
          "output_type": "display_data",
          "data": {
            "text/plain": [
              "<Figure size 1000x600 with 1 Axes>"
            ],
            "image/png": "[encoded data removed]"
          },
          "metadata": {}
        }
      ]
    }
  ],
  "metadata": {
    "colab": {
      "provenance": []
    },
    "kernelspec": {
      "display_name": "Python 3",
      "name": "python3"
    },
    "language_info": {
      "name": "python"
    }
  },
  "nbformat": 4,
  "nbformat_minor": 0
}